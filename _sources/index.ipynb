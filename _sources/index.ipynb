{
 "cells": [
  {
   "cell_type": "markdown",
   "id": "temporal-spray",
   "metadata": {},
   "source": [
    "# teamtomo.org - home\n",
    "[teamtomo.org](https://teamtomo.org) is an *open* and *collaborative* platform for sharing knowledge in the cryo-electron tomography (cryo-ET) [community](https://twitter.com/hashtag/teamtomo).\n",
    "\n",
    "Cryo-ET is a 3D imaging modality which uses [transmission electron microscopes](https://en.wikipedia.org/wiki/Transmission_electron_microscopy) to image proteins, protein assemblies and thin cellular sections in their native state with high spatial resolution.\n",
    "\n",
    "![3d reconstruction image](assets/3d-reconstruction.png)\n",
    "\n",
    "Subtomogram averaging can be used to align and average many copies of the same object, increasing both the signal-to-noise ratio and interpretable resolution.\n",
    "\n",
    "If you're new to cryo-ET and subtomogram averaging, check out this [introduction to Cryo-ET](theory/cryo-et/index) or get hands-on with one of our [data processing walkthroughs](walkthroughs/EMPIAR-10164/introduction.md). Looking for something more specific? Check out of our [mini-tutorials](mini-tutorials/dynamo/index.md) or our [resource pages](resources/literature/index.md)!\n",
    "\n",
    "Still haven't found what you were looking for? Ask the community by sending an email to the [CCP-EM mailing list](https://www.jiscmail.ac.uk/cgi-bin/webadmin?A0=CCPEM), or use [#teamtomo](https://twitter.com/hashtag/teamtomo) on Twitter.\n",
    "\n",
    "We warmly welcome contributions from anyone willing to share their expertise! If you would like to contribute or suggest some changes, check out our [contribution guidelines](teamtomo/contributing/index).\n",
    "\n",
    "\n",
    "\n",
    "```{toctree}\n",
    ":hidden:\n",
    ":titlesonly:\n",
    ":caption: teamtomo.org\n",
    "\n",
    "teamtomo/about\n",
    "teamtomo/contributing/index\n",
    "```\n",
    "\n",
    "\n",
    "```{toctree}\n",
    ":hidden:\n",
    ":titlesonly:\n",
    ":caption: Theory\n",
    "\n",
    "theory/cryo-et/index\n",
    "theory/subtomogram-averaging/index\n",
    "theory/image-processing/introduction\n",
    "```\n",
    "\n",
    "\n",
    "```{toctree}\n",
    ":hidden:\n",
    ":titlesonly:\n",
    ":caption: Walkthroughs\n",
    "\n",
    "EMPIAR-10164 (HIV VLPs) <walkthroughs/EMPIAR-10164/introduction>\n",
    "```\n",
    "\n",
    "\n",
    "```{toctree}\n",
    ":hidden:\n",
    ":titlesonly:\n",
    ":caption: mini-tutorials\n",
    "\n",
    "mini-tutorials/dynamo/index\n",
    "```\n",
    "\n",
    "\n",
    "```{toctree}\n",
    ":hidden:\n",
    ":titlesonly:\n",
    ":caption: computing\n",
    "\n",
    "computing/python/index\n",
    "computing/matlab/index\n",
    "```\n",
    "\n",
    "\n",
    "```{toctree}\n",
    ":hidden:\n",
    ":titlesonly:\n",
    ":caption: Resources\n",
    "\n",
    "resources/literature/index\n",
    "resources/cryoet-software/cryoet-software\n",
    "```"
   ]
  }
 ],
 "metadata": {
  "jupytext": {
   "cell_metadata_filter": "-all",
   "formats": "md:myst",
   "text_representation": {
    "extension": ".md",
    "format_name": "myst",
    "format_version": 0.12,
    "jupytext_version": "1.7.1"
   }
  },
  "kernelspec": {
   "display_name": "Python 3",
   "language": "python",
   "name": "python3"
  },
  "language_info": {
   "codemirror_mode": {
    "name": "ipython",
    "version": 3
   },
   "file_extension": ".py",
   "mimetype": "text/x-python",
   "name": "python",
   "nbconvert_exporter": "python",
   "pygments_lexer": "ipython3",
   "version": "3.8.7"
  },
  "source_map": [
   14
  ]
 },
 "nbformat": 4,
 "nbformat_minor": 5
}